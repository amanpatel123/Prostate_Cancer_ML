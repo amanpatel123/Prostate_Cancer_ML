{
 "cells": [
  {
   "cell_type": "code",
   "execution_count": 3,
   "id": "mineral-advice",
   "metadata": {},
   "outputs": [],
   "source": [
    "import pandas as pd\n",
    "import numpy as np\n",
    "from collections import Counter\n",
    "from mpl_toolkits import mplot3d\n",
    "import matplotlib.pyplot as plt\n",
    "import matplotlib\n",
    "import matplotlib.pyplot as plt\n",
    "import sklearn\n",
    "from sklearn.model_selection import cross_val_score,cross_val_predict\n",
    "from sklearn.ensemble import RandomForestClassifier\n",
    "from sklearn.neighbors import KNeighborsClassifier\n",
    "from sklearn.svm import SVC\n",
    "from sklearn.preprocessing import StandardScaler\n",
    "from sklearn.feature_selection import VarianceThreshold\n",
    "from sklearn.feature_selection import SelectKBest, chi2\n",
    "from sklearn.naive_bayes import GaussianNB\n",
    "from sklearn.discriminant_analysis import LinearDiscriminantAnalysis\n",
    "from sklearn.decomposition import PCA, KernelPCA\n",
    "from sklearn.feature_selection import SelectFromModel\n",
    "from sklearn.ensemble import IsolationForest\n",
    "from sklearn import decomposition\n",
    "import warnings\n",
    "warnings.filterwarnings(\"ignore\")"
   ]
  },
  {
   "cell_type": "code",
   "execution_count": 4,
   "id": "metric-orleans",
   "metadata": {},
   "outputs": [],
   "source": [
    "#Importing Dataset\n",
    "Gene_Data = pd.read_excel('prad_tcga_genes.xlsx')\n",
    "Patient_Data = pd.read_excel('prad_tcga_clinical_data.xlsx')"
   ]
  },
  {
   "cell_type": "code",
   "execution_count": 5,
   "id": "figured-light",
   "metadata": {},
   "outputs": [],
   "source": [
    "#Extracting Y Value\n",
    "Y = Patient_Data['GLEASON_SCORE']"
   ]
  },
  {
   "cell_type": "code",
   "execution_count": 6,
   "id": "varying-importance",
   "metadata": {},
   "outputs": [],
   "source": [
    "#Transposing Data\n",
    "X_old = Gene_Data.transpose()"
   ]
  },
  {
   "cell_type": "code",
   "execution_count": 7,
   "id": "occupational-eagle",
   "metadata": {},
   "outputs": [],
   "source": [
    "# Fill NaN values with mean\n",
    "X_old = X_old.fillna(X_old.mean())"
   ]
  },
  {
   "cell_type": "code",
   "execution_count": null,
   "id": "comparative-schema",
   "metadata": {},
   "outputs": [],
   "source": []
  }
 ],
 "metadata": {
  "kernelspec": {
   "display_name": "Python 3",
   "language": "python",
   "name": "python3"
  },
  "language_info": {
   "codemirror_mode": {
    "name": "ipython",
    "version": 3
   },
   "file_extension": ".py",
   "mimetype": "text/x-python",
   "name": "python",
   "nbconvert_exporter": "python",
   "pygments_lexer": "ipython3",
   "version": "3.8.7"
  }
 },
 "nbformat": 4,
 "nbformat_minor": 5
}
